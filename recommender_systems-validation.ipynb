{
 "cells": [
  {
   "cell_type": "markdown",
   "metadata": {},
   "source": [
    "# Recommender Systems: Validation\n",
    "---\n",
    "\n",
    "\n",
    "The goal of this document is to provide a solid basis for validating recommender systems. Along the way we aim to highlight pitfalls and best practices, as well as trade-offs between different approaches.\n",
    "\n",
    "### Outline\n",
    "---\n",
    "\n",
    "1. [**Introduction**](#intro)\n",
    "2. [**Testing your recsys: holding out data**](#splitting)\n",
    "\n",
    "    - [Leave-k-out](#leave-k-out)\n",
    "    - [Leave-one-out](#leave-one-out)\n",
    "    - [M-fold](#m-fold)    \n",
    "    - [Validation Sets](#validation)    \n",
    "    - [Summary: Holdout recommendations and best practices](#holdout summary)    \n",
    "<br>\n",
    "3. [**Evaluation Metrics**](#metrics)\n",
    "\n",
    "    - [Error Metrics](#error)\n",
    "    - [Classification Metrics](#class)\n",
    "\n",
    "\n",
    "### Dependencies\n",
    "---\n",
    "\n",
    "This notebook should ship with 'validation_figs.py', 'algorithms.py' and 'utils.py', which will provide some basic algorithms and functions used in this demo.  In addition this notebook requires the following libraries:\n",
    "- numpy\n",
    "- matplotlib\n",
    "- seaborn\n",
    "- scikit-learn\n",
    "\n",
    "### Implementation Details\n",
    "---\n",
    "The code shown below is not optimized for performance, but instead for interpretability.  It's left to the user to optimize code for a given problem. \n",
    "\n",
    "**Below we work with dense (normal) matrices, but for these problems sparse representations can save a lot of memory and computation!**\n",
    "\n",
    "---"
   ]
  },
  {
   "cell_type": "markdown",
   "metadata": {},
   "source": [
    "<a id='intro'></a>\n",
    "# Introduction\n",
    "\n",
    "Evaluating recommendation systems can be hard!  There are a number of issues that don't always arise in other Machine Learning applications.  \n",
    "\n",
    "To start, splitting the data into train and test sets is different than some standard approaches. Almost all recommenders need a user to rate ***at least one item*** in order to make predictions.  This means one cannot simply  holdout entire rows from the user-item data matrix to formulate a test set. \n",
    "\n",
    "**Cannot put any entire user row into test data set.**\n",
    "\n",
    "Generally the data used for recommendation has some level of ***implicitness***.  Users may like some items but not necessarilly buy/click/rate/use them, or they may not have been exposed to the items, or they may be waiting to make some action.\n",
    "\n",
    "** An empty entry in a user-item matrix does not always have a clear meaning.**\n",
    "\n",
    "Probably the most unique aspect of the recommendation problem are practical constraints - its often not possible to show all good recommendations to users.  Instead, we must provide the ***top N recommendations*** to users, where *N* is a relatively small number of items.  This naturally leads us to *rank* our predictions, and consider metrics which weigh the quality of those recommendations.\n",
    "\n",
    "** One needs to consider metrics ranking predictions.**\n",
    "\n",
    "---\n"
   ]
  },
  {
   "cell_type": "markdown",
   "metadata": {},
   "source": [
    "<a id='splitting'></a>\n",
    "# Testing your recommendation systems: holding out data\n",
    "\n",
    "Evaluating a recommendation system follows a similar pattern to evaluations of most Machine Learning models.  The gold standard is to evaluate the model's performance on heldout 'test' data.  This means we need to choose a method by which we choose a set of training data and test data.\n",
    "\n",
    "***Some jargon*** - For a data matrix X with N rows by M columns, ML practitioners usually call N 'samples' and M 'features'.  Often in recommenders, the primary form of data is again X.\n",
    "\n",
    "**N is called 'users' and M is called 'items'.**\n",
    "\n",
    "## Example data\n",
    "\n",
    "To illustrate the concepts associated with holdout for recommenders, let's generate an example user-item matrix.  This matrix has **20 users** and **100 items**.  In addition, we set the matrix to have **10% sparsity**, that is only 10% of the possible user-item pairs have data. Real world examples can often be very sparse, often at the *one percent* level or lower."
   ]
  },
  {
   "cell_type": "code",
   "execution_count": 1,
   "metadata": {},
   "outputs": [
    {
     "data": {
      "image/png": "[encoded data removed]",
      "text/plain": [
       "<matplotlib.figure.Figure at 0x7f00710c9f50>"
      ]
     },
     "metadata": {},
     "output_type": "display_data"
    }
   ],
   "source": [
    "# ipython notebook foo to embed figures\n",
    "%matplotlib inline\n",
    "\n",
    "from validation_figs import *\n",
    "\n",
    "# generate a small, random user-item matrix for illustration\n",
    "uim, _ = uim_data()"
   ]
  },
  {
   "cell_type": "markdown",
   "metadata": {},
   "source": [
    "## Defining train and test sets.\n",
    "\n",
    "For recommenders, the split is often slightly different from the (more) standard approach of splitting the data matrix on rows.  Many recommenders, in fact, need to have *SOME*  item-level information for a user, or it can't make any prediction at all. **We can not exclude any whole row of the user-item matrix off the training set.** So instead, we need to split up the data in more creative ways.\n",
    "\n",
    "<a id='leave-k-out'></a>\n",
    "### Leave-k-out \n",
    "\n",
    "A common strategy for splitting recommendation data into training and test sets is **leave-k-out**.  Here, a split percentage is chosen (e.g., 80% train, 20% test) and the test percentage is **selected randomly** from the user-item pairs with non-zero entries.\n",
    "\n",
    "**Randomly select k non-zero user-item matrix entries into test set. **\n",
    "\n",
    "**Repeat the above step multiple times. **\n",
    "\n",
    "\n",
    "Choosing an 80%/20% split, we can see the test data highlighted in our example below:"
   ]
  },
  {
   "cell_type": "code",
   "execution_count": 20,
   "metadata": {},
   "outputs": [
    {
     "data": {
      "image/png": "[encoded data removed]",
      "text/plain": [
       "<matplotlib.figure.Figure at 0x12010aed0>"
      ]
     },
     "metadata": {},
     "output_type": "display_data"
    }
   ],
   "source": [
    "# Leave-k-out demo\n",
    "leave_k_out(uim.copy(), _)"
   ]
  },
  {
   "cell_type": "markdown",
   "metadata": {},
   "source": [
    "***Best practices***\n",
    "* Similar to K-fold cross validation, leave-k-out should be repeated multiple times.  **A minimal version is to repeat by 1 over the test fraction size** - so for 20% test splits, repeat $N=5$ times.  However, since the strategy is random (not stratified) **it is best to repeat multiple $N$ times**.  One can look at the variance of metrics to see how well they are estimated."
   ]
  },
  {
   "cell_type": "markdown",
   "metadata": {},
   "source": [
    "<a id='leave-one-out'></a>\n",
    "### Leave-one-out\n",
    "\n",
    "The extreme case of leave-k-out is **leave-one-out**, where only one user-item entry is held out for testing. If feasible, training and testing is repeated for every user-item entry in the *entire data set!*  The obvious downside of this approach is the computational demands, which can be large for big datasets. Sometimes, this means people will adopt a strategy of only doing leave-one-out for each user, or randomly selecting one entry and doing this as many times as practical.\n",
    "\n",
    "***Why would anyone do this?*** In some cases, its hard to have enough training data to build a good model and one may need to maximize the amount of training data available. Alternatively, another situation where leave-one-out is appropriate is when almost all the users have one or two ratings.  This means that under typical leave-k-out, a large number of users will have no entries by which to make predictions.  Using leave-one-out generally requires knowledge and assumptions about the data and model, so Data Scientist beware! Leave-one-out can be quite prone to overfitting.\n",
    "\n",
    "\n",
    "** leave-one-out is the extreme case of leave-k-out scheme:**\n",
    "\n",
    "** The leave-one-out method is computational demanding, but ideal for situation when training data is scarce.**\n",
    "\n",
    "** leave-one-out can be quite prone to overfitting. **\n"
   ]
  },
  {
   "cell_type": "markdown",
   "metadata": {},
   "source": [
    "<a id='m-fold'></a>\n",
    "### M-fold Cross Validation\n",
    "\n",
    "A useful variant that combines leave-k-out and standard *K-fold* crossvValidation is (sometimes) called ***M-fold cross validation***.  The idea is simple - split the data into a training set and holdout set.  On the holdout set, perform leave-k-out.  \n",
    "\n",
    "On our example data, lets perform a 50% training and holdout split, and 50% leave-k-out on the holdout set.  This means we are training on 50% of the data, and testing on 25%. "
   ]
  },
  {
   "cell_type": "code",
   "execution_count": 2,
   "metadata": {},
   "outputs": [
    {
     "data": {
      "image/png": "[encoded data removed]",
      "text/plain": [
       "<matplotlib.figure.Figure at 0x7f0052992fd0>"
      ]
     },
     "metadata": {},
     "output_type": "display_data"
    }
   ],
   "source": [
    "# M-fold demo\n",
    "M_fold(uim.copy(), _)"
   ]
  },
  {
   "cell_type": "markdown",
   "metadata": {},
   "source": [
    "***Best practices***\n",
    "* Like our best practices for leave-k-out, we should repeated the number of tests we do on the holdout data for a given fold.\n",
    "\n",
    "M-fold cross validation has some nice advantages.  First, the training data is complete - that is, the training data for each user is not missing any data (unlike standard leave-k-out).  This might be an advantage when the typical number of entries for a user is quite low.  Second, integrating the stratified nature of K-fold CV gives us more assurance that we are traversing the dataset, possibly leading to less test evaluations ultimately.  The downside is that one might have to put more care into considering the exact splits of training, holdout, and test proportions."
   ]
  },
  {
   "cell_type": "markdown",
   "metadata": {},
   "source": [
    "<a id='validation'></a>\n",
    "### Validation Sets\n",
    "\n",
    "Many machine learning models require hyperparameter tuning in order to deliver good performance.  The same is true for a subset of recommender systems.  In these cases, we need a third partitioning of the data - a **validation set**.  The validation set is used during the training process to set the hyperparameters.  This strategy is standard practice to insure best generalized performance.\n",
    "\n",
    "Selecting a validation set is similar to the process for any other machine learning application.  From the training set, a validation set is selected in a manner similar to how the initial train/test split was generated.  Often the only difference is the relative proportions of the train/test and train/validation splits."
   ]
  },
  {
   "cell_type": "markdown",
   "metadata": {},
   "source": [
    "<a id='holdout summary'></a>\n",
    "### Summary: Holdout recommendations and best practices\n",
    "\n",
    "* Generally we recommend using leave-k-out or M-fold validation.  Use leave-one-out only when necessary.\n",
    "* Leave-k-out might be well suited to more balanced (# of user entries fairly consistent) and more dense (# of user entries fairly large) data, while M-fold might preform better elsewhere.\n",
    "* Think carefully when deciding strategy and split proportions:\n",
    "    * How much training data does the model need?\n",
    "    * What is the variance of your estimation of performance metrics?\n",
    "    * If the data is large, what are the computational and practical trade-offs?\n",
    "    * Does your strategy bias performance towards different user populations?"
   ]
  },
  {
   "cell_type": "markdown",
   "metadata": {},
   "source": [
    "<a id='metrics'></a>\n",
    "# Evaluation Metrics\n",
    "\n",
    "There are a large variety of **evaluation metrics** we might consider for different recommendation tasks.  This is no single, slam-dunk metric by which recommenders can be evaluated.  Instead, it requires a bit of thinking: What is the goal of the system?  What do zeros in the matrix mean? How much implicitness and exposure are involved in the data collection?  \n",
    "\n",
    "These are tough questions.  In a real-world, production situation, one *or more* of the below metrics may be used when building out recommenders but ultimately **the gold standard is A/B testing**.  However, A/B testing every possible model is impractical.  Moreover, practitioners developing new recommender models need a means by which to iterate.\n",
    "\n",
    "This section will walk through various options for metrics, with the goal of giving a high level intuition but enough detail when necessary.  Here we will evaluate the metrics on one data set and one train/test split, using a simple cosine similarity user-user recommender.  To thoroughly evaluate a model, we would do the splitting and metric evaluation multiple times (as needed by the holdout method).  Comparing models is then possible using these (more robust) metrics."
   ]
  },
  {
   "cell_type": "markdown",
   "metadata": {},
   "source": [
    "## Data, Train/Test Sets, and Collaborative Filtering\n",
    "\n",
    "Below, we will used the [MovieLens 100k](http://grouplens.org/datasets/movielens/) dataset.  This dataset is represents a 943 user by 1682 movie matrix, where the entries are **non-binary** ratings of movies **valued 1-5**.  We ship the necessary data file with this notebook.  Let's load the data:"
   ]
  },
  {
   "cell_type": "code",
   "execution_count": 2,
   "metadata": {},
   "outputs": [
    {
     "name": "stdout",
     "output_type": "stream",
     "text": [
      "User-review matrix, shape: (943, 1682)\n"
     ]
    }
   ],
   "source": [
    "from utils import fetch_movielens_data\n",
    "\n",
    "# get user-review (i.e., user-item) matrix\n",
    "urm = fetch_movielens_data()\n",
    "\n",
    "print 'User-review matrix, shape: (%d, %d)' % urm.shape"
   ]
  },
  {
   "cell_type": "markdown",
   "metadata": {},
   "source": [
    "For demonstration purposes, lets do one split of training and test sets using an 80%/20% ratio.\n",
    "\n",
    "note - in this implementation of leave-k-out, the train, test data have the same shape, **but test data is zeroed out in the training set**. In addition, we have imputed values where there are no entries in the matrix."
   ]
  },
  {
   "cell_type": "code",
   "execution_count": 4,
   "metadata": {},
   "outputs": [
    {
     "name": "stdout",
     "output_type": "stream",
     "text": [
      "Train shape: (943, 1682)\n",
      "Test shape: (943, 1682)\n",
      "Zero-valued Train entries: 20000\n",
      "Non-zero Train entries: 1566126\n",
      "Test entries: 20000\n",
      "Total entries in imputed user-item matrix: 1586126\n"
     ]
    }
   ],
   "source": [
    "import numpy as np\n",
    "from utils import train_test_split\n",
    "train, test = train_test_split(urm)\n",
    "\n",
    "# Remember - this is MovieLens 100k, meaning 100k ratings.\n",
    "print 'Train shape: (%d, %d)' % train.shape\n",
    "print 'Test shape: (%d, %d)' % test.shape\n",
    "print 'Zero-valued Train entries: %d' % np.where(train == 0)[0].size\n",
    "print 'Non-zero Train entries: %d' % np.where(train > 0)[0].size\n",
    "print 'Test entries: %d' % np.where(test > 0)[0].size\n",
    "print 'Total entries in imputed user-item matrix: %d' % (train.shape[0] * train.shape[1])"
   ]
  },
  {
   "cell_type": "markdown",
   "metadata": {},
   "source": [
    "Finally, lets run our working model - user-user collaborative filtering.  This model uses the cosine similarity between users to predict the ratings of items.  A detailed discussion is beyond the scope of this document but [this blog post](http://blog.ethanrosenthal.com/2015/11/02/intro-to-collaborative-filtering/) has a great discussion, and (coming soon) recommender_systems-algorithms.ipynb will cover the model and possible alternatives."
   ]
  },
  {
   "cell_type": "code",
   "execution_count": 24,
   "metadata": {
    "collapsed": true
   },
   "outputs": [],
   "source": [
    "from algorithms import CosSimilarityRecommender\n",
    "\n",
    "# init, fit to training data, predict\n",
    "rec = CosSimilarityRecommender(kind='user')\n",
    "rec.fit(train)\n",
    "predictions = rec.predict(train)"
   ]
  },
  {
   "cell_type": "markdown",
   "metadata": {},
   "source": [
    "<a id='error'></a>\n",
    "## Error metrics\n",
    "\n",
    "Error metrics are one of the most used and well known metrics amongst Machine Learning practitioners.  They are useful because they provide (in some sense) a summary of how model predictions perform across a given test set.  The most common is the **Mean Squared Error (MSE)** or similarly **Root Mean Squared Error (RMSE)**.  Lets define the **MSE**:\n",
    "\n",
    "$$ {\\rm MSE} = \\frac{1}{N}\\sum_{i=1}^{N} (p_i - a_i)^2 $$\n",
    "\n",
    "Here we sum the squared difference between predicted value $p_i$ and actual value $a_i$ over all $N$ test examples.  The RMSE is simply the square root of this value.  RMSE perhaps more interpretible because it is of the same scale as the data, but nevertheless constains the same information as the MSE.\n",
    "\n",
    "While the MSE is easy to compute, it can suffer from very large error contributions from **outliers** - squaring the error puts emphasis on large deviations.  A more robust error metric is the **Mean Absolute Error (MAE)**:\n",
    "\n",
    "$$ {\\rm MAE} = \\frac{1}{N}\\sum_{i=1}^{N} |p_i - a_i| $$,\n",
    "\n",
    "which is easy to implement and interpret. \n",
    "\n",
    "Lets compute the MSE and MAE:"
   ]
  },
  {
   "cell_type": "code",
   "execution_count": 25,
   "metadata": {},
   "outputs": [
    {
     "name": "stdout",
     "output_type": "stream",
     "text": [
      "MSE = 1.064\n",
      "MAE = 0.837\n"
     ]
    }
   ],
   "source": [
    "# alternatively:\n",
    "# from sklearn.metrics import mean_squared_error, mean_absolute_error\n",
    "\n",
    "# mean squared error\n",
    "def mse(true, actual):\n",
    "    return np.mean((true - actual) ** 2.)\n",
    "\n",
    "# mean absolute error\n",
    "def mae(true, actual):\n",
    "    return np.mean(np.abs(true - actual))\n",
    "\n",
    "nonzero_test = test > 0\n",
    "print 'MSE = %0.3f' % mse(predictions[nonzero_test], test[nonzero_test])\n",
    "print 'MAE = %0.3f' % mae(predictions[nonzero_test], test[nonzero_test])"
   ]
  },
  {
   "cell_type": "markdown",
   "metadata": {},
   "source": [
    "Ok, so what do these numbers mean?  Its hard to say, exactly, because they are compressed summaries of the data.  There may be half of the predictions doing perfectly and half doing badly or all just performing equally well.  This is an argument for always visualizing (or understanding) your errors.  MAE is a bit more interpretible, on face value it says the model is making average errors on the order of 0.8.  For a scale from 1-5, that seems fairly bad!  Again, better dig into the errors.  \n",
    "\n",
    "***Binary vs. Non-binary data***: MSE and RMSE have clear connections to non-binary data - if we can accurately estimate the user ratings/plays/clicks it would be very useful!  These metrics are also valid for binary data, if the binary predictions/estimates are continuous.  If they are not, classification metrics (below) do just as well."
   ]
  },
  {
   "cell_type": "markdown",
   "metadata": {},
   "source": [
    "<a id='class'></a>\n",
    "## Classification Metrics\n",
    "\n",
    "Error metrics are great as they can provide a nice summary of how well the model generally performs.  However, one natural goal of recommender systems is to distinguish good recommendations from bad ones. In the binary case, this is very natural - a \"1\" is a good recommendation.  The distinction from bad/good (0/1) makes perfect sense for binary data.  For non-binary data, a threshold must be chosen such that all ratings above the threshold are good and called \"1\", while the rest are bad with label \"0\".\n",
    "\n",
    "This good/bad, positive/negative framework is the same as binary classification in other machine learning settings.  Therefore, standard classification metrics could be useful here.  Two basic metrics are **precision** and **recall**, which are defined by True Positives $TP$, False Positives $FP$, True Negatives $TN$, and False Negatives $FN$:\n",
    "\n",
    "$$ {\\rm Precision} = \\frac{TP}{TP + FP}, {\\rm Recall} = \\frac{TP}{TP + FN}$$\n",
    "\n",
    "Precision is the fraction of good/positive/one labels you got correct, out of all the samples you label positive. Recall is the fraction good/positive/one labels you got correct, out of all the true positives.\n",
    "\n",
    "One metric that combines these two measurements is the **$F_1$ score**:\n",
    "\n",
    "$$ F_1 = 2 \\frac{{\\rm precision} \\times {\\rm recall}}{{\\rm precision} + {\\rm recall}}$$\n",
    "\n",
    "which can be viewed as a weighted average of precision and recall.  A perfectly good classfier has a $F_1$ score of 1, while a perfectly bad classifier has a $F_1$ score of zero.\n",
    "\n",
    "All these metrics are clear once we have defined the threshold of good/bad in our predictions.  For instance, in a binary situation our labels are 0, 1 while our predictions are (almost always) continuous from 0 - 1.  To compare the predictions, we select a threshold (say 0.5), above which we call predictions 1 and below 0.\n",
    "\n",
    "The choice of the threshold is left to the user, and can be varied depending on desired tradeoffs (for a more in-depth discussion of this threshold, see [this blog](http://blog.insightdatalabs.com/visualizing-classifier-thresholds/)).  Therefore to summarize classification performance generally, we need metrics that can provide summaries over this threshold.  One tool for generating such a metric is the **Receiver Operator Characteristic (ROC)** curve.  It is a plot of the True Positive Rate $TPR$ versus the False Positive Rate $FPR$:\n",
    "\n",
    "$$ TPR = \\frac{TP}{TP + FN}, FPR = \\frac{FP}{FP + TN}$$\n",
    "\n",
    "A summary metric for the ROC curve is its integral - the **Area Under the Curve (ROC-AUC)**.\n",
    "\n",
    "Lets examine these metrics for the data and model we have been following:"
   ]
  },
  {
   "cell_type": "code",
   "execution_count": 26,
   "metadata": {},
   "outputs": [
    {
     "name": "stdout",
     "output_type": "stream",
     "text": [
      "Recall: 0.866\n",
      "Precision: 0.877\n",
      "F1 score: 0.871\n",
      "ROC-AUC: 0.723\n"
     ]
    },
    {
     "data": {
      "image/png": "[encoded data removed]",
      "text/plain": [
       "<matplotlib.figure.Figure at 0x11821b490>"
      ]
     },
     "metadata": {},
     "output_type": "display_data"
    }
   ],
   "source": [
    "def binarize(arr, tol):\n",
    "    \"\"\"\n",
    "    Convert continous valued array to binary. \n",
    "    \"\"\"\n",
    "    arr[arr < tol] = 0\n",
    "    arr[arr >= tol] = 1\n",
    "    return arr\n",
    "\n",
    "from sklearn.metrics import recall_score, precision_score, f1_score, roc_curve, roc_auc_score\n",
    "\n",
    "# get non-zero test entries, since we can't evaluate for unsubmitted ratings!\n",
    "y_true = test[nonzero_test]\n",
    "y_pred = predictions[nonzero_test]\n",
    "\n",
    "# Continous version of predictions, scaled to 0, 1\n",
    "y_pred_scaled = (y_pred - 1.) / 4.\n",
    "\n",
    "# binarize true values and predictions\n",
    "# use the tolerance rating of 3\n",
    "y_pred_binarized = binarize(y_pred.copy(), 3)\n",
    "y_true_binarized = binarize(y_true.copy(), 3)\n",
    "\n",
    "# recall, precision, and f1 are definied for binarized (non-continuous) values \n",
    "# of predictions\n",
    "print 'Recall: %0.3f' % recall_score(y_true_binarized, y_pred_binarized)\n",
    "print 'Precision: %0.3f' % precision_score(y_true_binarized, y_pred_binarized)\n",
    "print 'F1 score: %0.3f' % f1_score(y_true_binarized, y_pred_binarized)\n",
    "\n",
    "# roc-auc is more accurate when using continuous predictions.\n",
    "auc_score = roc_auc_score(y_true_binarized, y_pred_scaled)\n",
    "print 'ROC-AUC: %0.3f' % auc_score\n",
    "\n",
    "# plot ROC curve\n",
    "fpr, tpr, thresholds = roc_curve(y_true_binarized, y_pred_scaled)\n",
    "pl.figure(figsize=(8, 8))\n",
    "pl.plot(fpr, tpr, lw=2)\n",
    "pl.plot([0, 1], [0, 1], 'k--')\n",
    "pl.title('ROC (AUC=%0.3f)' % auc_score)\n",
    "pl.xlabel('FPR')\n",
    "pl.ylabel('TPR')\n",
    "pl.show()"
   ]
  },
  {
   "cell_type": "markdown",
   "metadata": {},
   "source": [
    "Interesting!  According to recall our positive predictions are about 87% pure, and precision says we called 88% of the positive examples 'positive'.  The F1 score is correspondingly high."
   ]
  }
 ],
 "metadata": {
  "kernelspec": {
   "display_name": "Python 2",
   "language": "python",
   "name": "python2"
  },
  "language_info": {
   "codemirror_mode": {
    "name": "ipython",
    "version": 2
   },
   "file_extension": ".py",
   "mimetype": "text/x-python",
   "name": "python",
   "nbconvert_exporter": "python",
   "pygments_lexer": "ipython2",
   "version": "2.7.13"
  }
 },
 "nbformat": 4,
 "nbformat_minor": 1
}
